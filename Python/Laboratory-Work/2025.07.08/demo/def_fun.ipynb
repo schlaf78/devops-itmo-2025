{
 "cells": [
  {
   "cell_type": "markdown",
   "id": "0fa673bf-3921-45a4-89d4-1790fd8365a3",
   "metadata": {},
   "source": [
    " Функции и параметры"
   ]
  },
  {
   "cell_type": "code",
   "execution_count": null,
   "id": "8ef4d407-09fa-4323-8611-d157cafec23f",
   "metadata": {},
   "outputs": [],
   "source": [
    "Функция без параметров - работает с глобальными данными "
   ]
  },
  {
   "cell_type": "code",
   "execution_count": 113,
   "id": "15930e83-62b8-44c7-99e5-7a0b7f009f17",
   "metadata": {},
   "outputs": [
    {
     "name": "stdout",
     "output_type": "stream",
     "text": [
      "10 15\n"
     ]
    }
   ],
   "source": [
    "a, b = 10, 15\n",
    "def print_data():\n",
    "    print(a,b)\n",
    "\n",
    "print_data()"
   ]
  },
  {
   "cell_type": "markdown",
   "id": "33712842-993c-4010-a05e-705967e55e73",
   "metadata": {},
   "source": [
    "Функция в параметрами - локальные переменные"
   ]
  },
  {
   "cell_type": "code",
   "execution_count": 120,
   "id": "fcb4c96f-d900-4764-8b72-f10ae4f1cffe",
   "metadata": {},
   "outputs": [
    {
     "name": "stdout",
     "output_type": "stream",
     "text": [
      "10 15\n",
      "140725017778904 140725017778936 False\n",
      "11 15\n"
     ]
    }
   ],
   "source": [
    "a, b = 10, 15\n",
    "def print_data(ap, bp):\n",
    "    global a\n",
    "    a += 1\n",
    "    #ap +=1\n",
    "    print(ap,bp)\n",
    "    print(id(ap), id(a), a is ap)\n",
    "\n",
    "print_data(a,b)\n",
    "print(a,b)"
   ]
  },
  {
   "cell_type": "code",
   "execution_count": 122,
   "id": "44fd54c7-dc0f-458b-9c16-247e4c8aac09",
   "metadata": {},
   "outputs": [
    {
     "name": "stdout",
     "output_type": "stream",
     "text": [
      "10;15\n"
     ]
    }
   ],
   "source": [
    "a, b = 10, 15\n",
    "def print_data(a, b, sp):\n",
    "    #a += 1\n",
    "    print(a,b, sep=sp)\n",
    "\n",
    "print_data(a,b,';')"
   ]
  },
  {
   "cell_type": "code",
   "execution_count": null,
   "id": "dc287d9c-f863-415e-8b30-743a7fb52737",
   "metadata": {},
   "outputs": [],
   "source": [
    "Функция с произвольным количеством позиционных аргументов - разделитель как именнованный или поставить первым"
   ]
  },
  {
   "cell_type": "code",
   "execution_count": 130,
   "id": "ef43c9ea-1817-41c2-b8b4-12405876e9f5",
   "metadata": {},
   "outputs": [
    {
     "name": "stdout",
     "output_type": "stream",
     "text": [
      "10;15;7;12;78\n"
     ]
    }
   ],
   "source": [
    "a, b, c = 10, 15, 7\n",
    "\n",
    "def print_data(*ab,sp='-'):\n",
    "    print(*ab, sep=sp)\n",
    "\n",
    "print_data(a,b,c,12,78, sp=';')\n"
   ]
  },
  {
   "cell_type": "code",
   "execution_count": 26,
   "id": "0eaed3cb-d738-45f5-9802-3cdcd347aacf",
   "metadata": {},
   "outputs": [
    {
     "name": "stdout",
     "output_type": "stream",
     "text": [
      "10;15;7\n"
     ]
    }
   ],
   "source": [
    "a, b, c = 10, 15, 7\n",
    "def print_data(sp, *ab):\n",
    "    print(*ab, sep=sp)\n",
    "\n",
    "print_data(';', a,b,c)"
   ]
  },
  {
   "cell_type": "code",
   "execution_count": null,
   "id": "1d77e357-8364-40f5-ae83-966697548086",
   "metadata": {},
   "outputs": [],
   "source": [
    "Функция с произвольным количеством позиционных параметров и параметров типа ключ-значение"
   ]
  },
  {
   "cell_type": "code",
   "execution_count": 133,
   "id": "cf10b4f8-01e0-46b8-a895-1fa0161968c5",
   "metadata": {},
   "outputs": [
    {
     "name": "stdout",
     "output_type": "stream",
     "text": [
      "{'sp': '; ', 'rt': 2} sp\n",
      "dict_keys(['sp', 'rt'])\n",
      "dict_items([('sp', '; '), ('rt', 2)])\n",
      "10; 15; 7; 10; 15; 7\n"
     ]
    }
   ],
   "source": [
    "a, b, c = 10, 15, 7\n",
    "def print_data(*ab, **sps):\n",
    "    '''после данных указать разделитель и число повторов вывода'''\n",
    "    print(sps, list(sps.keys())[0])\n",
    "    print(sps.keys())\n",
    "    print(sps.items())\n",
    "    print(*ab*sps[list(sps.keys())[1]], sep=sps[list(sps.keys())[0]])\n",
    "\n",
    "print_data(a,b,c, sp='; ', rt = 2)"
   ]
  },
  {
   "cell_type": "markdown",
   "id": "96d28c9e-764e-4c50-8b09-ed3873693003",
   "metadata": {},
   "source": [
    "Контрольное задание. Формирование строки запроса.\n",
    "Напишите функцию, которая принимает произвольное количество именованных аргументов и формирует из них строку запроса.\n",
    "Аргументы в строке запроса должны быть отсортированы в алфавитном порядке.\n",
    "Примеры вызова:\n",
    "print(make_query(category='books', genre='thriller', author='Stephen_King'))  \n",
    "print(make_query(name='Егор', last_name='Тимохин', age=25, occupation='дизайнер'\n",
    "Вывод:\n",
    "author=Stephen_King&category=books&genre=thriller\n",
    "age=25&last_name=Тимохин&name=Егор&occupation=дизайнер"
   ]
  },
  {
   "cell_type": "code",
   "execution_count": 84,
   "id": "0ae15ac3-2cd9-476b-924d-a0eba7184da5",
   "metadata": {},
   "outputs": [],
   "source": [
    "def make_query(**kwargs):\n",
    "    return '&'.join([f'{k}={kwargs[k]}' for k in sorted(kwargs)])"
   ]
  },
  {
   "cell_type": "markdown",
   "id": "e59b6d46-cbe5-40eb-899e-9272fbd38497",
   "metadata": {},
   "source": [
    "Конструкция с расширяемым числом позиционных аргументов должна использоваться с осторожностью. \n",
    "Рекомендация: если функция получает список аргументов одинаковой природы, зачастую более ясно определить ее как функцию одного аргумента, причем этот аргумент может быть списком или любой другой последовательностью."
   ]
  },
  {
   "cell_type": "code",
   "execution_count": 134,
   "id": "60ecf2cf-ec5a-4079-b866-cef9b6ba8108",
   "metadata": {},
   "outputs": [
    {
     "name": "stdout",
     "output_type": "stream",
     "text": [
      "1;15;7\n",
      "10 15 7\n"
     ]
    }
   ],
   "source": [
    "a, b, c = 10, 15, 7\n",
    "def print_data(sp, abs):\n",
    "    abs[0] = 1\n",
    "    print(*abs, sep=sp)\n",
    "\n",
    "print_data(';',[a,b,c]) # передаются данные в виде списка - данные не должны измениться\n",
    "print(a,b,c)"
   ]
  },
  {
   "cell_type": "code",
   "execution_count": 135,
   "id": "84046ee5-4f17-4654-b0e7-c55451221c8d",
   "metadata": {},
   "outputs": [
    {
     "name": "stdout",
     "output_type": "stream",
     "text": [
      "1;15;7\n",
      "1 15 7\n",
      "10 15 7\n"
     ]
    }
   ],
   "source": [
    "a, b, c = 10, 15, 7\n",
    "def print_data(sp, abs):\n",
    "    abs[0] = 1\n",
    "    print(*abs, sep=sp)\n",
    "\n",
    "dt = [a,b,c]\n",
    "print_data(';',dt) # передаются данные в виде list - данные должны измениться\n",
    "print(*dt) # содержимое списка меняется\n",
    "print(a,b,c) # не должны изменится"
   ]
  },
  {
   "cell_type": "code",
   "execution_count": null,
   "id": "ad7459a9-87f2-423f-b8b8-87d7a835d4e0",
   "metadata": {},
   "outputs": [],
   "source": []
  }
 ],
 "metadata": {
  "kernelspec": {
   "display_name": "Python 3 (ipykernel)",
   "language": "python",
   "name": "python3"
  },
  "language_info": {
   "codemirror_mode": {
    "name": "ipython",
    "version": 3
   },
   "file_extension": ".py",
   "mimetype": "text/x-python",
   "name": "python",
   "nbconvert_exporter": "python",
   "pygments_lexer": "ipython3",
   "version": "3.12.3"
  }
 },
 "nbformat": 4,
 "nbformat_minor": 5
}
